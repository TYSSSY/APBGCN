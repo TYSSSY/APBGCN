{
 "cells": [
  {
   "cell_type": "code",
   "execution_count": 1,
   "metadata": {},
   "outputs": [],
   "source": [
    "from __future__ import print_function\n",
    "import os, glob\n",
    "import time\n",
    "import numpy as np\n",
    "import yaml\n",
    "import pickle\n",
    "from collections import OrderedDict\n",
    "\n",
    "import torch\n",
    "import torch.nn as nn\n",
    "import torch.optim as optim\n",
    "from torch.autograd import Variable\n",
    "from torch.utils.data import DataLoader\n",
    "\n",
    "from tensorboardX import SummaryWriter\n",
    "from data.dataset import SkeletonDataset"
   ]
  },
  {
   "cell_type": "code",
   "execution_count": 3,
   "metadata": {
    "scrolled": true
   },
   "outputs": [],
   "source": [
    "skeleton = SkeletonDataset(root=\"/home/project/gcn/Apb-gcn/NTU-RGB+D\", name='cv_train', benchmark='cv', sample = 'train')"
   ]
  },
  {
   "cell_type": "code",
   "execution_count": 3,
   "metadata": {},
   "outputs": [],
   "source": [
    "directory = '/home/project/gcn/Apb-gcn/NTU-RGB+D/processed/cs_train.pt'\n",
    "\n",
    "tt = torch.load(directory)"
   ]
  },
  {
   "cell_type": "code",
   "execution_count": 13,
   "metadata": {},
   "outputs": [
    {
     "data": {
      "text/plain": [
       "torch.Size([40091])"
      ]
     },
     "execution_count": 13,
     "metadata": {},
     "output_type": "execute_result"
    }
   ],
   "source": [
    "tt[1].shape"
   ]
  },
  {
   "cell_type": "code",
   "execution_count": 11,
   "metadata": {
    "scrolled": true
   },
   "outputs": [
    {
     "name": "stdout",
     "output_type": "stream",
     "text": [
      "40091 40091\n"
     ]
    }
   ],
   "source": [
    "print(len(tt[0]), len(tt[1]))"
   ]
  },
  {
   "cell_type": "code",
   "execution_count": 8,
   "metadata": {},
   "outputs": [
    {
     "data": {
      "text/plain": [
       "torch.Size([94, 25, 7])"
      ]
     },
     "execution_count": 8,
     "metadata": {},
     "output_type": "execute_result"
    }
   ],
   "source": [
    "tt[0][1].shape"
   ]
  },
  {
   "cell_type": "code",
   "execution_count": 14,
   "metadata": {},
   "outputs": [],
   "source": [
    "tf = '/home/project/gcn/Apb-gcn/NTU-RGB+D/test/test2.skeleton'"
   ]
  },
  {
   "cell_type": "code",
   "execution_count": 15,
   "metadata": {},
   "outputs": [],
   "source": [
    "def process_skeleton(path,\n",
    "                     num_joints=25,\n",
    "                     num_features=3,\n",
    "                     use_motion_vector=False):\n",
    "    import os.path as osp\n",
    "    #t = osp.split(path)[-1][-12:-9]\n",
    "    t = 2\n",
    "    print(path)\n",
    "    with open(path, 'r') as f:\n",
    "        lines = f.readlines()\n",
    "        num_frames = int(lines[0])\n",
    "        print(\"num_frames: \", num_frames)\n",
    "        start = 1\n",
    "        num_persons = int(lines[1])\n",
    "        print(\"num_persons: \", num_persons)\n",
    "        offset = int((len(lines) - 1) / num_frames)\n",
    "        frames = [lines[start + 3 + i * offset:\n",
    "                        start + 3 + i * offset + num_joints] for i in range(num_frames)]\n",
    "        #print(frames[1])\n",
    "        frames = process_frames(frames, num_joints, num_features, use_motion_vector)\n",
    "        if num_persons == 2:\n",
    "            frames_ = [lines[start + (i + 1) * offset - num_joints:\n",
    "                             start + (i + 1) * offset + num_joints] for i in range(num_frames)]\n",
    "            print(frames_[0])\n",
    "            frames_ = process_frames(frames_, num_joints, num_features, use_motion_vector)\n",
    "            frames = torch.cat([frames, frames_], dim=0)\n",
    "        return frames, int(t)"
   ]
  },
  {
   "cell_type": "code",
   "execution_count": 16,
   "metadata": {},
   "outputs": [],
   "source": [
    "def motion_vector(frames):\n",
    "    # dimensions: num_frames num_joints num_features (x, y, z)\n",
    "    mgd = torch.sqrt(torch.sum(torch.square(frames), dim=2))  # Magnitude\n",
    "    mv = torch.zeros(frames.shape)\n",
    "    mv[1:, :, :] = frames[1:, :, :] - frames[0: -1, :, :]\n",
    "    mv = torch.div(mv.view(-1, 3), mgd.view(-1, 1)).view(frames.shape)\n",
    "    # switch the order to {z, x, y} before applying acos\n",
    "    mv = torch.cat([torch.acos(mv[:, :, [2, 0, 1]]),\n",
    "                    torch.unsqueeze(mgd, dim=2)], dim=-1)\n",
    "    return mv"
   ]
  },
  {
   "cell_type": "code",
   "execution_count": null,
   "metadata": {},
   "outputs": [],
   "source": [
    "[ff[index] for index in range(len(ff)) if index % 3 == 2]"
   ]
  },
  {
   "cell_type": "code",
   "execution_count": 17,
   "metadata": {},
   "outputs": [],
   "source": [
    "def process_frames(frames, num_joints, num_features, use_motion_vector=False):\n",
    "    fv = torch.zeros((len(frames), num_joints, num_features))\n",
    "    for i in range(len(frames)):\n",
    "        f = frames[i]\n",
    "        for j in range(num_joints):\n",
    "            vs = [float(n) for n in f[j].split()][0: num_features]\n",
    "            fv[i, j, :] = torch.tensor(vs)\n",
    "    if use_motion_vector:\n",
    "        fv = torch.cat([fv, motion_vector(fv)], dim=-1)\n",
    "    return fv"
   ]
  },
  {
   "cell_type": "code",
   "execution_count": 18,
   "metadata": {},
   "outputs": [],
   "source": [
    "def updated_process_frames(frames, num_persons, num_joints, num_features, use_motion_vector=False):\n",
    "    fv = torch.zeros((len(frames), num_joints, num_features))\n",
    "    frame_count = 0\n",
    "    for p in range(num_persons):\n",
    "        per_person = [frames[index] for index in range(len(frames)) if index % num_persons == p]\n",
    "        for i in range(len(per_person)):\n",
    "            f = per_person[i]\n",
    "            for j in range(num_joints):\n",
    "                vs = [float(n) for n in f[j].split()][0: num_features]\n",
    "                fv[frame_count, j, :] = torch.tensor(vs)\n",
    "            frame_count += 1\n",
    "    if use_motion_vector:\n",
    "        fv = torch.cat([fv, motion_vector(fv)], dim=-1)\n",
    "    return fv"
   ]
  },
  {
   "cell_type": "code",
   "execution_count": 19,
   "metadata": {},
   "outputs": [],
   "source": [
    "def updated_process_skeleton(path,\n",
    "                     num_joints=25,\n",
    "                     num_features=3,\n",
    "                     use_motion_vector=True):\n",
    "    import os.path as osp\n",
    "    #t = osp.split(path)[-1][-12:-9]\n",
    "    t = 2\n",
    "    count = 0\n",
    "    print(path)\n",
    "    with open(path, 'r') as f:\n",
    "        i = 0\n",
    "        lines = f.readlines()\n",
    "        frames = []\n",
    "        while i < len(lines):\n",
    "            #print(i)\n",
    "            if i == 0:\n",
    "                frame_number = lines[i]\n",
    "                i += 1\n",
    "            else:\n",
    "                if lines[i] == '0\\n':\n",
    "                    i += 1\n",
    "                    continue\n",
    "                num_persons = int(lines[i])\n",
    "                #num_joints = int(lines[i+2])\n",
    "                for j in range(num_persons):\n",
    "                    frames.append(lines[i+3+j*27:i+28+j*27])\n",
    "                i += (1 + num_persons * 27)\n",
    "                    \n",
    "        frames = updated_process_frames(frames, num_persons, num_joints, num_features, use_motion_vector)            \n",
    "    return frames, int(t)"
   ]
  },
  {
   "cell_type": "code",
   "execution_count": 20,
   "metadata": {
    "scrolled": true
   },
   "outputs": [
    {
     "name": "stdout",
     "output_type": "stream",
     "text": [
      "/home/project/gcn/Apb-gcn/NTU-RGB+D/test/test2.skeleton\n",
      "num_frames:  3\n",
      "num_persons:  2\n",
      "['1.143176 0.7084895 4.362553 352.7569 148.7456 1250.743 396.291 -0.0676174 0.004678101 0.9698148 -0.2342334 2\\n', '1.136982 0.95244 4.23788 355.1589 125.7225 1257.953 330.336 -0.06834885 0.004854767 0.9697635 -0.2342298 2\\n', '1.127422 1.191693 4.103536 357.6232 101.4471 1265.468 260.7529 -0.07128434 -0.00520127 0.960898 -0.2675193 2\\n', '1.115176 1.28857 4.029669 358.3796 90.59951 1267.951 229.5862 0 0 0 0 2\\n', '0.9758932 1.100306 4.172343 342.4962 111.3647 1221.891 288.9844 0.2191297 0.765861 -0.5944641 0.1097793 2\\n', '0.9305833 0.9081436 4.31139 335.7446 131.0136 1202.17 345.1609 0.1695074 0.726771 -0.2708969 -0.6080181 2\\n', '0.8996224 0.7457207 4.393685 331.5867 146.1283 1190.062 388.4174 0.1962227 0.9302434 -0.147619 -0.2726766 2\\n', '0.9127301 0.7226607 4.402908 332.5195 148.1863 1192.713 394.3375 0.2571706 0.870483 0.1526045 -0.3909406 1\\n', '1.297338 1.077064 4.133075 372.0637 112.4272 1306.732 292.4274 0.1347699 0.7813718 0.5700091 -0.2153713 2\\n', '1.361159 0.8834609 4.260327 374.0884 132.0761 1312.06 348.8249 0.189261 0.8541305 0.2477072 0.4162723 2\\n', '1.384647 0.6532095 4.339156 373.8813 153.049 1311.201 408.9556 -0.140511 -0.61744 0.09695175 0.7678704 2\\n', '1.373571 0.6030346 4.356941 372.443 157.5267 1307.033 421.7748 -0.03268313 -0.6495628 0.1937575 0.734478 1\\n', '1.06732 0.7104857 4.338107 346.8345 148.2612 1233.878 394.8015 -0.04842056 -0.6485342 0.7142655 -0.2586186 2\\n', '1.196345 0.4550347 4.450323 355.1928 170.8995 1257.47 459.8893 0.2060562 0.9543363 0.2050331 -0.0688799 2\\n', '0.9155342 0.3842402 4.497842 331.042 177.1473 1188.233 477.4962 -0.02446193 0.7709162 -0.6154552 -0.1621875 2\\n', '1.020654 0.3470765 4.474437 340.1048 180.0138 1214.248 485.8591 0 0 0 0 2\\n', '1.203869 0.6959397 4.324903 358.7957 149.272 1268.121 397.8993 -0.04673689 0.6784275 0.6413156 -0.3553394 2\\n', '1.308651 0.4431633 4.428947 365.0686 171.6783 1285.744 462.2628 0.02739974 0.7525004 0.2598383 0.6045465 2\\n', '1.306894 0.188953 4.564555 361.6296 193.2737 1275.488 524.213 0.1845289 0.7296994 0.1574865 0.6392855 1\\n', '1.317383 0.2819824 4.46875 364.7877 185.2843 1284.8 501.3086 0 0 0 0 2\\n', '1.130766 1.132162 4.139205 357.0305 107.6888 1263.633 278.6592 -0.06961056 0.002246132 0.9660426 -0.2488189 2\\n', '0.9210985 0.6749007 4.414721 332.9988 152.3326 1194.061 406.2427 0 0 0 0 2\\n', '0.9162182 0.6842071 4.3915 332.9999 151.254 1194.129 403.1477 0 0 0 0 2\\n', '1.369857 0.5399179 4.355857 372.1407 162.8568 1306.168 437.0553 0 0 0 0 2\\n', '1.324296 0.611722 4.336778 368.7775 156.5618 1296.618 418.9556 0 0 0 0 2\\n', '2\\n', '72057594037937917 0 1 1 0 0 0 -0.1631032 0.006432178 2\\n', '25\\n', '0.5256934 0.07647672 3.601382 309.8048 200.7187 1130.29 545.1252 -0.2060498 0.03081073 0.9391301 -0.273183 2\\n', '0.5085088 0.3431101 3.436219 310.5861 171.8991 1133.396 462.1176 -0.1405302 0.01182167 0.951143 -0.2746607 2\\n', '0.4881911 0.6044679 3.259971 311.3302 140.4178 1136.405 371.6813 -0.05998703 -0.01685648 0.9503163 -0.3049857 2\\n', '0.4021277 0.6079874 3.329601 300.6643 141.4926 1105.401 374.5868 0 0 0 0 2\\n', '0.4390898 0.5356461 3.246682 305.9653 147.9674 1121.075 393.2567 -0.00598015 -0.4880898 0.6874758 -0.5376891 2\\n', '0.5407547 0.3413897 3.278162 316.8345 170.3092 1152.137 457.6312 -0.1634674 0.5070119 0.1864854 0.8254941 1\\n', '0.5734291 0.1219371 3.466919 316.9536 195.608 1151.472 530.4644 0.1686886 0.5832441 0.3080048 0.732464 1\\n', '0.5721081 0.05087236 3.492584 316.3624 203.159 1149.61 552.2147 0.1115706 0.5971165 0.1317319 0.7833585 1\\n', '0.5730597 0.454853 3.220084 321.6659 156.651 1166.309 418.4496 -0.2312348 0.8548503 0.3897273 -0.2527333 2\\n', '0.6364456 0.2379563 3.290773 327.2886 181.972 1182.051 491.3238 0.02501836 0.7375525 0.2033148 0.64347 2\\n', '0.6202523 0.1472581 3.080276 330.2092 190.9597 1191.564 517.2195 -0.5442399 0.8330571 -0.08026181 0.05810987 1\\n', '0.6577702 0.1688526 3.029522 336.0299 188.0408 1208.556 508.8884 0.8107838 -0.4944884 -0.06700696 -0.3059751 1\\n', '0.4663275 0.08067448 3.592497 303.8679 200.2746 1113.249 543.7925 -0.1439684 -0.6414167 0.7170449 -0.2317414 2\\n', '0.4790351 -0.1929878 3.775058 302.8075 227.2125 1109.21 621.4642 -0.173885 -0.5182316 0.2326642 0.804405 2\\n', '0.5139466 -0.4778267 3.891371 304.7568 253.502 1114.045 697.1775 -0.1510362 -0.5233524 0.1313204 0.8282785 2\\n', '0.469865 -0.5581715 3.807128 301.5983 262.25 1105.15 722.329 0 0 0 0 2\\n', '0.574887 0.06997001 3.542087 315.8096 201.2584 1147.809 546.7334 -0.1543829 0.5869817 0.6588543 -0.4444428 2\\n', '0.5854059 -0.2061612 3.711262 314.1431 228.8491 1142.054 626.2253 0.2188937 0.8089258 0.1611315 0.5213072 2\\n', '0.571941 -0.507639 3.870955 310.5297 256.5855 1130.674 706.0447 0.2097215 0.7977384 0.1204969 0.5523685 2\\n', '0.5273706 -0.5877288 3.786813 307.4338 265.428 1121.962 731.4564 0 0 0 0 2\\n', '0.4936264 0.5400476 3.30572 311.1448 148.5456 1135.647 395.0015 -0.05998888 -0.01472809 0.955183 -0.2894994 2\\n', '0.6190083 0.002026147 3.532201 320.5723 208.2853 1161.484 567.0179 0 0 0 0 2\\n']\n"
     ]
    }
   ],
   "source": [
    "f, idx = process_skeleton(tf)"
   ]
  },
  {
   "cell_type": "code",
   "execution_count": 14,
   "metadata": {},
   "outputs": [
    {
     "data": {
      "text/plain": [
       "torch.Size([6, 25, 3])"
      ]
     },
     "execution_count": 14,
     "metadata": {},
     "output_type": "execute_result"
    }
   ],
   "source": [
    "f.shape"
   ]
  },
  {
   "cell_type": "code",
   "execution_count": 11,
   "metadata": {},
   "outputs": [
    {
     "data": {
      "text/plain": [
       "2"
      ]
     },
     "execution_count": 11,
     "metadata": {},
     "output_type": "execute_result"
    }
   ],
   "source": [
    "idx"
   ]
  },
  {
   "cell_type": "code",
   "execution_count": 21,
   "metadata": {},
   "outputs": [
    {
     "name": "stdout",
     "output_type": "stream",
     "text": [
      "/home/project/gcn/Apb-gcn/NTU-RGB+D/test/test2.skeleton\n"
     ]
    }
   ],
   "source": [
    "f, idx = updated_process_skeleton(tf)"
   ]
  },
  {
   "cell_type": "code",
   "execution_count": 22,
   "metadata": {
    "scrolled": true
   },
   "outputs": [
    {
     "data": {
      "text/plain": [
       "torch.Size([6, 25, 7])"
      ]
     },
     "execution_count": 22,
     "metadata": {},
     "output_type": "execute_result"
    }
   ],
   "source": [
    "f.shape"
   ]
  },
  {
   "cell_type": "code",
   "execution_count": 23,
   "metadata": {},
   "outputs": [
    {
     "data": {
      "text/plain": [
       "2"
      ]
     },
     "execution_count": 23,
     "metadata": {},
     "output_type": "execute_result"
    }
   ],
   "source": [
    "idx"
   ]
  },
  {
   "cell_type": "code",
   "execution_count": 103,
   "metadata": {},
   "outputs": [
    {
     "data": {
      "text/plain": [
       "tensor([[ 5.3362e-01,  7.6619e-02,  3.6079e+00,  1.5708e+00,  1.5708e+00,\n",
       "          1.5708e+00,  3.6480e+00],\n",
       "        [ 5.1281e-01,  3.4690e-01,  3.4416e+00,  1.5708e+00,  1.5708e+00,\n",
       "          1.5708e+00,  3.4969e+00],\n",
       "        [ 4.9054e-01,  6.1125e-01,  3.2656e+00,  1.5708e+00,  1.5708e+00,\n",
       "          1.5708e+00,  3.3584e+00],\n",
       "        [ 4.8491e-01,  7.0598e-01,  3.2735e+00,  1.5708e+00,  1.5708e+00,\n",
       "          1.5708e+00,  3.3837e+00],\n",
       "        [ 3.4536e-01,  5.2826e-01,  3.3594e+00,  1.5708e+00,  1.5708e+00,\n",
       "          1.5708e+00,  3.4182e+00],\n",
       "        [ 4.3483e-01,  3.2148e-01,  3.4627e+00,  1.5708e+00,  1.5708e+00,\n",
       "          1.5708e+00,  3.5046e+00],\n",
       "        [ 4.6799e-01,  1.0203e-01,  3.6515e+00,  1.5708e+00,  1.5708e+00,\n",
       "          1.5708e+00,  3.6828e+00],\n",
       "        [ 4.4591e-01, -3.8013e-03,  3.6529e+00,  1.5708e+00,  1.5708e+00,\n",
       "          1.5708e+00,  3.6801e+00],\n",
       "        [ 5.7847e-01,  4.6453e-01,  3.2299e+00,  1.5708e+00,  1.5708e+00,\n",
       "          1.5708e+00,  3.3140e+00],\n",
       "        [ 6.6016e-01,  2.3042e-01,  3.3059e+00,  1.5708e+00,  1.5708e+00,\n",
       "          1.5708e+00,  3.3790e+00],\n",
       "        [ 6.4390e-01,  1.3968e-01,  3.0952e+00,  1.5708e+00,  1.5708e+00,\n",
       "          1.5708e+00,  3.1646e+00],\n",
       "        [ 6.8142e-01,  1.6127e-01,  3.0445e+00,  1.5708e+00,  1.5708e+00,\n",
       "          1.5708e+00,  3.1240e+00],\n",
       "        [ 4.7460e-01,  8.0524e-02,  3.5944e+00,  1.5708e+00,  1.5708e+00,\n",
       "          1.5708e+00,  3.6265e+00],\n",
       "        [ 4.8951e-01, -1.8718e-01,  3.7738e+00,  1.5708e+00,  1.5708e+00,\n",
       "          1.5708e+00,  3.8100e+00],\n",
       "        [ 5.1476e-01, -4.7865e-01,  3.8943e+00,  1.5708e+00,  1.5708e+00,\n",
       "          1.5708e+00,  3.9572e+00],\n",
       "        [ 4.6099e-01, -5.5673e-01,  3.8150e+00,  1.5708e+00,  1.5708e+00,\n",
       "          1.5708e+00,  3.8828e+00],\n",
       "        [ 5.8269e-01,  7.1951e-02,  3.5560e+00,  1.5708e+00,  1.5708e+00,\n",
       "          1.5708e+00,  3.6042e+00],\n",
       "        [ 5.8931e-01, -2.0946e-01,  3.7184e+00,  1.5708e+00,  1.5708e+00,\n",
       "          1.5708e+00,  3.7706e+00],\n",
       "        [ 5.8181e-01, -5.0831e-01,  3.8716e+00,  1.5708e+00,  1.5708e+00,\n",
       "          1.5708e+00,  3.9479e+00],\n",
       "        [ 5.2748e-01, -5.8613e-01,  3.7923e+00,  1.5708e+00,  1.5708e+00,\n",
       "          1.5708e+00,  3.8734e+00],\n",
       "        [ 4.9650e-01,  5.4613e-01,  3.3117e+00,  1.5708e+00,  1.5708e+00,\n",
       "          1.5708e+00,  3.3930e+00],\n",
       "        [ 4.4707e-01, -2.6296e-02,  3.6657e+00,  1.5708e+00,  1.5708e+00,\n",
       "          1.5708e+00,  3.6929e+00],\n",
       "        [ 4.9121e-01, -2.4817e-02,  3.6304e+00,  1.5708e+00,  1.5708e+00,\n",
       "          1.5708e+00,  3.6636e+00],\n",
       "        [ 7.1501e-01,  1.8911e-01,  3.0118e+00,  1.5708e+00,  1.5708e+00,\n",
       "          1.5708e+00,  3.1012e+00],\n",
       "        [ 6.9076e-01,  1.8903e-01,  3.0223e+00,  1.5708e+00,  1.5708e+00,\n",
       "          1.5708e+00,  3.1060e+00]])"
      ]
     },
     "execution_count": 103,
     "metadata": {},
     "output_type": "execute_result"
    }
   ],
   "source": [
    "f[0]"
   ]
  },
  {
   "cell_type": "code",
   "execution_count": 2,
   "metadata": {},
   "outputs": [],
   "source": [
    "directory = '/home/project/gcn/Apb-gcn/NTU-RGB+D/processed/cs/cs_val.pt'\n",
    "\n",
    "tt = torch.load(directory)\n"
   ]
  },
  {
   "cell_type": "code",
   "execution_count": 4,
   "metadata": {},
   "outputs": [
    {
     "name": "stdout",
     "output_type": "stream",
     "text": [
      "torch.Size([98, 25, 7]) torch.Size([70256])\n"
     ]
    }
   ],
   "source": [
    "print(tt[0][0].shape, tt[1].shape)"
   ]
  },
  {
   "cell_type": "code",
   "execution_count": 24,
   "metadata": {},
   "outputs": [
    {
     "data": {
      "text/plain": [
       "43689"
      ]
     },
     "execution_count": 24,
     "metadata": {},
     "output_type": "execute_result"
    }
   ],
   "source": [
    "len(tt[0])"
   ]
  },
  {
   "cell_type": "code",
   "execution_count": 20,
   "metadata": {},
   "outputs": [
    {
     "name": "stdout",
     "output_type": "stream",
     "text": [
      "70256 70256\n"
     ]
    }
   ],
   "source": [
    "print(len(tt[0]), len(tt[1]))"
   ]
  },
  {
   "cell_type": "code",
   "execution_count": 62,
   "metadata": {},
   "outputs": [],
   "source": [
    "#tt[1]"
   ]
  },
  {
   "cell_type": "code",
   "execution_count": 63,
   "metadata": {},
   "outputs": [],
   "source": [
    "#tl = torch.zeros(3)\n",
    "#tl[0] = 1\n",
    "#tl[1] = 2\n",
    "#tl[2] = 3\n",
    "\n",
    "#print(tl)\n"
   ]
  },
  {
   "cell_type": "code",
   "execution_count": 64,
   "metadata": {},
   "outputs": [],
   "source": [
    "#ll = [1,2,3]\n",
    "#bb = torch.FloatTensor(ll)\n",
    "#print(bb)"
   ]
  },
  {
   "cell_type": "code",
   "execution_count": 54,
   "metadata": {},
   "outputs": [],
   "source": [
    "ff=[1,2,3,4,5,6,7,8,9]"
   ]
  },
  {
   "cell_type": "code",
   "execution_count": 58,
   "metadata": {},
   "outputs": [
    {
     "data": {
      "text/plain": [
       "[3, 6, 9]"
      ]
     },
     "execution_count": 58,
     "metadata": {},
     "output_type": "execute_result"
    }
   ],
   "source": [
    "[ff[index] for index in range(len(ff)) if index % 3 == 2]"
   ]
  },
  {
   "cell_type": "code",
   "execution_count": null,
   "metadata": {},
   "outputs": [],
   "source": []
  }
 ],
 "metadata": {
  "kernelspec": {
   "display_name": "Python 3",
   "language": "python",
   "name": "python3"
  },
  "language_info": {
   "codemirror_mode": {
    "name": "ipython",
    "version": 3
   },
   "file_extension": ".py",
   "mimetype": "text/x-python",
   "name": "python",
   "nbconvert_exporter": "python",
   "pygments_lexer": "ipython3",
   "version": "3.6.9"
  }
 },
 "nbformat": 4,
 "nbformat_minor": 4
}
